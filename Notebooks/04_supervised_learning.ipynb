{
 "cells": [
  {
   "cell_type": "markdown",
   "id": "5caa8df0",
   "metadata": {},
   "source": [
    "# Training Data"
   ]
  },
  {
   "cell_type": "markdown",
   "id": "0ffac9c1",
   "metadata": {},
   "source": [
    "import all req pckgs"
   ]
  },
  {
   "cell_type": "code",
   "execution_count": 47,
   "id": "8dc0427d",
   "metadata": {},
   "outputs": [],
   "source": [
    "import pandas as pd\n",
    "from sklearn.model_selection import train_test_split\n",
    "from sklearn.preprocessing import StandardScaler, label_binarize\n",
    "from sklearn.linear_model import LogisticRegression\n",
    "from sklearn.tree import DecisionTreeClassifier\n",
    "from sklearn.ensemble import RandomForestClassifier\n",
    "from sklearn.svm import SVC\n",
    "from sklearn.metrics import accuracy_score, precision_score, recall_score, f1_score, roc_auc_score, RocCurveDisplay\n",
    "import matplotlib.pyplot as plt\n"
   ]
  },
  {
   "cell_type": "markdown",
   "id": "946b3682",
   "metadata": {},
   "source": [
    "data loading "
   ]
  },
  {
   "cell_type": "code",
   "execution_count": 48,
   "id": "93127cba",
   "metadata": {},
   "outputs": [],
   "source": [
    "data_path = r\"F:\\Omar 3amora\\Heart_Disease_Project\\Data\\heart_disease_reduced_features.csv\"\n",
    "df = pd.read_csv(data_path)\n"
   ]
  },
  {
   "cell_type": "markdown",
   "id": "efb2bc0f",
   "metadata": {},
   "source": [
    "split data"
   ]
  },
  {
   "cell_type": "code",
   "execution_count": 49,
   "id": "425464a5",
   "metadata": {},
   "outputs": [],
   "source": [
    "X = df.drop(columns='num')  # Adjust if your target column has a different name\n",
    "y = df['num']\n",
    "\n",
    "# Split dataset into training and testing sets (80%-20%)\n",
    "X_train, X_test, y_train, y_test = train_test_split(\n",
    "    X, y, test_size=0.2, random_state=42, stratify=y\n",
    ")"
   ]
  },
  {
   "cell_type": "markdown",
   "id": "281eb61d",
   "metadata": {},
   "source": [
    "model initialization"
   ]
  },
  {
   "cell_type": "code",
   "execution_count": 50,
   "id": "2ec2d95e",
   "metadata": {},
   "outputs": [],
   "source": [
    "models = {\n",
    "    'Logistic Regression': LogisticRegression(random_state=42, max_iter=1000),\n",
    "    'Decision Tree': DecisionTreeClassifier(random_state=42),\n",
    "    'Random Forest': RandomForestClassifier(random_state=42),\n",
    "    'SVM': SVC(probability=True, random_state=42)\n",
    "}\n",
    "\n",
    "# Binarize labels for multiclass ROC/AUC\n",
    "y_test_bin = label_binarize(y_test, classes=sorted(y.unique()))\n",
    "\n",
    "# Train models and evaluate\n",
    "results = {}\n"
   ]
  },
  {
   "cell_type": "code",
   "execution_count": 51,
   "id": "2afcfca4",
   "metadata": {},
   "outputs": [
    {
     "name": "stderr",
     "output_type": "stream",
     "text": [
      "c:\\Users\\Omar Ben Emad\\AppData\\Local\\Programs\\Python\\Python310\\lib\\site-packages\\sklearn\\metrics\\_classification.py:1334: UndefinedMetricWarning: Precision is ill-defined and being set to 0.0 in labels with no predicted samples. Use `zero_division` parameter to control this behavior.\n",
      "  _warn_prf(average, modifier, msg_start, len(result))\n"
     ]
    },
    {
     "name": "stdout",
     "output_type": "stream",
     "text": [
      "\n",
      "Logistic Regression Metrics:\n",
      "Accuracy: 0.5924\n",
      "Precision: 0.5540\n",
      "Recall: 0.5924\n",
      "F1-score: 0.5668\n",
      "AUC: 0.8561\n",
      "\n",
      "Decision Tree Metrics:\n",
      "Accuracy: 0.4946\n",
      "Precision: 0.5007\n",
      "Recall: 0.4946\n",
      "F1-score: 0.4967\n",
      "AUC: 0.6475\n",
      "\n",
      "Random Forest Metrics:\n",
      "Accuracy: 0.5870\n",
      "Precision: 0.5656\n",
      "Recall: 0.5870\n",
      "F1-score: 0.5728\n",
      "AUC: 0.8451\n",
      "\n",
      "SVM Metrics:\n",
      "Accuracy: 0.5870\n",
      "Precision: 0.5254\n",
      "Recall: 0.5870\n",
      "F1-score: 0.5536\n",
      "AUC: 0.8513\n"
     ]
    },
    {
     "name": "stderr",
     "output_type": "stream",
     "text": [
      "c:\\Users\\Omar Ben Emad\\AppData\\Local\\Programs\\Python\\Python310\\lib\\site-packages\\sklearn\\metrics\\_classification.py:1334: UndefinedMetricWarning: Precision is ill-defined and being set to 0.0 in labels with no predicted samples. Use `zero_division` parameter to control this behavior.\n",
      "  _warn_prf(average, modifier, msg_start, len(result))\n"
     ]
    }
   ],
   "source": [
    "\n",
    "for name, model in models.items():\n",
    "    # Use scaled data for SVM and Logistic Regression\n",
    "    if name in ['SVM', 'Logistic Regression']:\n",
    "        model.fit(X_train_scaled, y_train)\n",
    "        y_pred = model.predict(X_test_scaled)\n",
    "        y_proba = model.predict_proba(X_test_scaled)\n",
    "    else:\n",
    "        model.fit(X_train, y_train)\n",
    "        y_pred = model.predict(X_test)\n",
    "        y_proba = model.predict_proba(X_test)\n",
    "    \n",
    "    # Compute metrics\n",
    "    accuracy = accuracy_score(y_test, y_pred)\n",
    "    precision = precision_score(y_test, y_pred, average='weighted')\n",
    "    recall = recall_score(y_test, y_pred, average='weighted')\n",
    "    f1 = f1_score(y_test, y_pred, average='weighted')\n",
    "    auc_score = roc_auc_score(y_test_bin, y_proba, multi_class='ovr', average='weighted')\n",
    "    \n",
    "    # Save results\n",
    "    results[name] = {\n",
    "        'Model': model,\n",
    "        'Accuracy': accuracy,\n",
    "        'Precision': precision,\n",
    "        'Recall': recall,\n",
    "        'F1-score': f1,\n",
    "        'AUC': auc_score\n",
    "    }\n",
    "\n",
    "# Display results\n",
    "for name, metrics in results.items():\n",
    "    print(f\"\\n{name} Metrics:\")\n",
    "    print(f\"Accuracy: {metrics['Accuracy']:.4f}\")\n",
    "    print(f\"Precision: {metrics['Precision']:.4f}\")\n",
    "    print(f\"Recall: {metrics['Recall']:.4f}\")\n",
    "    print(f\"F1-score: {metrics['F1-score']:.4f}\")\n",
    "    print(f\"AUC: {metrics['AUC']:.4f}\")\n"
   ]
  },
  {
   "cell_type": "code",
   "execution_count": 56,
   "id": "2a433744",
   "metadata": {},
   "outputs": [
    {
     "data": {
      "text/plain": [
       "{'Logistic Regression': {'Model': LogisticRegression(max_iter=1000, random_state=42),\n",
       "  'Accuracy': 0.592391304347826,\n",
       "  'Precision': 0.5540176119370654,\n",
       "  'Recall': 0.592391304347826,\n",
       "  'F1-score': 0.5667774561634777,\n",
       "  'AUC': 0.8561055255677981},\n",
       " 'Decision Tree': {'Model': DecisionTreeClassifier(random_state=42),\n",
       "  'Accuracy': 0.4945652173913043,\n",
       "  'Precision': 0.5006652318157319,\n",
       "  'Recall': 0.4945652173913043,\n",
       "  'F1-score': 0.49674462011418535,\n",
       "  'AUC': 0.6474760368391861},\n",
       " 'Random Forest': {'Model': RandomForestClassifier(random_state=42),\n",
       "  'Accuracy': 0.5869565217391305,\n",
       "  'Precision': 0.5656354515050167,\n",
       "  'Recall': 0.5869565217391305,\n",
       "  'F1-score': 0.5728382169497559,\n",
       "  'AUC': 0.8451112592753409},\n",
       " 'SVM': {'Model': SVC(probability=True, random_state=42),\n",
       "  'Accuracy': 0.5869565217391305,\n",
       "  'Precision': 0.5254036677784718,\n",
       "  'Recall': 0.5869565217391305,\n",
       "  'F1-score': 0.5535971533939376,\n",
       "  'AUC': 0.8512674302351312}}"
      ]
     },
     "execution_count": 56,
     "metadata": {},
     "output_type": "execute_result"
    }
   ],
   "source": [
    "results"
   ]
  }
 ],
 "metadata": {
  "kernelspec": {
   "display_name": "Python 3",
   "language": "python",
   "name": "python3"
  },
  "language_info": {
   "codemirror_mode": {
    "name": "ipython",
    "version": 3
   },
   "file_extension": ".py",
   "mimetype": "text/x-python",
   "name": "python",
   "nbconvert_exporter": "python",
   "pygments_lexer": "ipython3",
   "version": "3.10.8"
  }
 },
 "nbformat": 4,
 "nbformat_minor": 5
}
